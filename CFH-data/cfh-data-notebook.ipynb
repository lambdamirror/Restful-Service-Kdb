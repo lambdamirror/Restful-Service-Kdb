{
 "cells": [
  {
   "cell_type": "code",
   "execution_count": 27,
   "metadata": {},
   "outputs": [],
   "source": [
    "import warnings\n",
    "warnings.simplefilter(\"ignore\")\n",
    "\n",
    "import time, sys\n",
    "import numpy as np\n",
    "import pandas as pd\n",
    "from datetime import datetime\n",
    "from cfhpy import MarketData, InsList"
   ]
  },
  {
   "cell_type": "code",
   "execution_count": 28,
   "metadata": {},
   "outputs": [
    {
     "data": {
      "text/plain": [
       "100"
      ]
     },
     "execution_count": 28,
     "metadata": {},
     "output_type": "execute_result"
    }
   ],
   "source": [
    "len(InsList)"
   ]
  },
  {
   "cell_type": "code",
   "execution_count": 29,
   "metadata": {},
   "outputs": [],
   "source": [
    "filepath = 'data/'\n",
    "symbol = 'AUDCAD'\n",
    "data = MarketData(symbol=symbol)\n",
    "t_start = '2020.08.13D00:00:00'\n",
    "t_end = '2020.08.13D12:00:00'"
   ]
  },
  {
   "cell_type": "code",
   "execution_count": 30,
   "metadata": {},
   "outputs": [],
   "source": [
    "# Get candle data and save to *.csv\n",
    "interval = 10 #minutes\n",
    "pxType = 'bid' #'bid','ask'\n",
    "\n",
    "klns = data.candle_data(interval=interval, pxType=pxType, startTime=t_start, endTime=t_end)\n",
    "kln_df = pd.DataFrame(klns)\n",
    "klnfile = filepath + \"%s-%s%d.csv\" % (symbol, pxType, interval)\n",
    "kln_df.to_csv(klnfile)"
   ]
  },
  {
   "cell_type": "code",
   "execution_count": 31,
   "metadata": {},
   "outputs": [
    {
     "data": {
      "text/html": [
       "<div>\n",
       "<style scoped>\n",
       "    .dataframe tbody tr th:only-of-type {\n",
       "        vertical-align: middle;\n",
       "    }\n",
       "\n",
       "    .dataframe tbody tr th {\n",
       "        vertical-align: top;\n",
       "    }\n",
       "\n",
       "    .dataframe thead th {\n",
       "        text-align: right;\n",
       "    }\n",
       "</style>\n",
       "<table border=\"1\" class=\"dataframe\">\n",
       "  <thead>\n",
       "    <tr style=\"text-align: right;\">\n",
       "      <th></th>\n",
       "      <th>symbol</th>\n",
       "      <th>open</th>\n",
       "      <th>high</th>\n",
       "      <th>low</th>\n",
       "      <th>close</th>\n",
       "      <th>aVol</th>\n",
       "      <th>nQuotes</th>\n",
       "      <th>time</th>\n",
       "    </tr>\n",
       "  </thead>\n",
       "  <tbody>\n",
       "    <tr>\n",
       "      <th>0</th>\n",
       "      <td>AUDCAD</td>\n",
       "      <td>0.94879</td>\n",
       "      <td>0.94984</td>\n",
       "      <td>0.94879</td>\n",
       "      <td>0.94970</td>\n",
       "      <td>0.94879</td>\n",
       "      <td>1525</td>\n",
       "      <td>2020-08-13T00:00:00.000+00:00</td>\n",
       "    </tr>\n",
       "    <tr>\n",
       "      <th>1</th>\n",
       "      <td>AUDCAD</td>\n",
       "      <td>0.94970</td>\n",
       "      <td>0.95026</td>\n",
       "      <td>0.94955</td>\n",
       "      <td>0.95009</td>\n",
       "      <td>0.94970</td>\n",
       "      <td>1172</td>\n",
       "      <td>2020-08-13T00:10:00.000+00:00</td>\n",
       "    </tr>\n",
       "    <tr>\n",
       "      <th>2</th>\n",
       "      <td>AUDCAD</td>\n",
       "      <td>0.95009</td>\n",
       "      <td>0.95055</td>\n",
       "      <td>0.95007</td>\n",
       "      <td>0.95031</td>\n",
       "      <td>0.95009</td>\n",
       "      <td>1605</td>\n",
       "      <td>2020-08-13T00:20:00.000+00:00</td>\n",
       "    </tr>\n",
       "    <tr>\n",
       "      <th>3</th>\n",
       "      <td>AUDCAD</td>\n",
       "      <td>0.95031</td>\n",
       "      <td>0.95044</td>\n",
       "      <td>0.94976</td>\n",
       "      <td>0.95019</td>\n",
       "      <td>0.95031</td>\n",
       "      <td>1009</td>\n",
       "      <td>2020-08-13T00:30:00.000+00:00</td>\n",
       "    </tr>\n",
       "    <tr>\n",
       "      <th>4</th>\n",
       "      <td>AUDCAD</td>\n",
       "      <td>0.95019</td>\n",
       "      <td>0.95039</td>\n",
       "      <td>0.94999</td>\n",
       "      <td>0.95007</td>\n",
       "      <td>0.95019</td>\n",
       "      <td>997</td>\n",
       "      <td>2020-08-13T00:40:00.000+00:00</td>\n",
       "    </tr>\n",
       "  </tbody>\n",
       "</table>\n",
       "</div>"
      ],
      "text/plain": [
       "   symbol     open     high      low    close     aVol  nQuotes  \\\n",
       "0  AUDCAD  0.94879  0.94984  0.94879  0.94970  0.94879     1525   \n",
       "1  AUDCAD  0.94970  0.95026  0.94955  0.95009  0.94970     1172   \n",
       "2  AUDCAD  0.95009  0.95055  0.95007  0.95031  0.95009     1605   \n",
       "3  AUDCAD  0.95031  0.95044  0.94976  0.95019  0.95031     1009   \n",
       "4  AUDCAD  0.95019  0.95039  0.94999  0.95007  0.95019      997   \n",
       "\n",
       "                            time  \n",
       "0  2020-08-13T00:00:00.000+00:00  \n",
       "1  2020-08-13T00:10:00.000+00:00  \n",
       "2  2020-08-13T00:20:00.000+00:00  \n",
       "3  2020-08-13T00:30:00.000+00:00  \n",
       "4  2020-08-13T00:40:00.000+00:00  "
      ]
     },
     "execution_count": 31,
     "metadata": {},
     "output_type": "execute_result"
    }
   ],
   "source": [
    "kln_df.head()"
   ]
  },
  {
   "cell_type": "code",
   "execution_count": 32,
   "metadata": {},
   "outputs": [],
   "source": [
    "# Get quote data and save to *.csv\n",
    "qts = data.quote_data(startTime=t_start, endTime=t_end)\n",
    "qts_df = pd.DataFrame(qts)\n",
    "qtsfile = filepath + \"%s-quote.csv\" % (symbol)\n",
    "qts_df.to_csv(qtsfile)"
   ]
  },
  {
   "cell_type": "code",
   "execution_count": 33,
   "metadata": {},
   "outputs": [
    {
     "data": {
      "text/html": [
       "<div>\n",
       "<style scoped>\n",
       "    .dataframe tbody tr th:only-of-type {\n",
       "        vertical-align: middle;\n",
       "    }\n",
       "\n",
       "    .dataframe tbody tr th {\n",
       "        vertical-align: top;\n",
       "    }\n",
       "\n",
       "    .dataframe thead th {\n",
       "        text-align: right;\n",
       "    }\n",
       "</style>\n",
       "<table border=\"1\" class=\"dataframe\">\n",
       "  <thead>\n",
       "    <tr style=\"text-align: right;\">\n",
       "      <th></th>\n",
       "      <th>symbol</th>\n",
       "      <th>bid</th>\n",
       "      <th>ask</th>\n",
       "      <th>bsize</th>\n",
       "      <th>asize</th>\n",
       "      <th>time</th>\n",
       "    </tr>\n",
       "  </thead>\n",
       "  <tbody>\n",
       "    <tr>\n",
       "      <th>0</th>\n",
       "      <td>AUDCAD</td>\n",
       "      <td>0.94879</td>\n",
       "      <td>0.94890</td>\n",
       "      <td>100000.0</td>\n",
       "      <td>500000.0</td>\n",
       "      <td>2020-08-13T00:00:00.086+00:00</td>\n",
       "    </tr>\n",
       "    <tr>\n",
       "      <th>1</th>\n",
       "      <td>AUDCAD</td>\n",
       "      <td>0.94879</td>\n",
       "      <td>0.94891</td>\n",
       "      <td>100000.0</td>\n",
       "      <td>1000000.0</td>\n",
       "      <td>2020-08-13T00:00:00.116+00:00</td>\n",
       "    </tr>\n",
       "    <tr>\n",
       "      <th>2</th>\n",
       "      <td>AUDCAD</td>\n",
       "      <td>0.94879</td>\n",
       "      <td>0.94891</td>\n",
       "      <td>100000.0</td>\n",
       "      <td>500000.0</td>\n",
       "      <td>2020-08-13T00:00:00.148+00:00</td>\n",
       "    </tr>\n",
       "    <tr>\n",
       "      <th>3</th>\n",
       "      <td>AUDCAD</td>\n",
       "      <td>0.94879</td>\n",
       "      <td>0.94891</td>\n",
       "      <td>100000.0</td>\n",
       "      <td>600000.0</td>\n",
       "      <td>2020-08-13T00:00:00.177+00:00</td>\n",
       "    </tr>\n",
       "    <tr>\n",
       "      <th>4</th>\n",
       "      <td>AUDCAD</td>\n",
       "      <td>0.94880</td>\n",
       "      <td>0.94891</td>\n",
       "      <td>1000000.0</td>\n",
       "      <td>500000.0</td>\n",
       "      <td>2020-08-13T00:00:00.230+00:00</td>\n",
       "    </tr>\n",
       "  </tbody>\n",
       "</table>\n",
       "</div>"
      ],
      "text/plain": [
       "   symbol      bid      ask      bsize      asize  \\\n",
       "0  AUDCAD  0.94879  0.94890   100000.0   500000.0   \n",
       "1  AUDCAD  0.94879  0.94891   100000.0  1000000.0   \n",
       "2  AUDCAD  0.94879  0.94891   100000.0   500000.0   \n",
       "3  AUDCAD  0.94879  0.94891   100000.0   600000.0   \n",
       "4  AUDCAD  0.94880  0.94891  1000000.0   500000.0   \n",
       "\n",
       "                            time  \n",
       "0  2020-08-13T00:00:00.086+00:00  \n",
       "1  2020-08-13T00:00:00.116+00:00  \n",
       "2  2020-08-13T00:00:00.148+00:00  \n",
       "3  2020-08-13T00:00:00.177+00:00  \n",
       "4  2020-08-13T00:00:00.230+00:00  "
      ]
     },
     "execution_count": 33,
     "metadata": {},
     "output_type": "execute_result"
    }
   ],
   "source": [
    "qts_df.head()"
   ]
  },
  {
   "cell_type": "code",
   "execution_count": null,
   "metadata": {},
   "outputs": [],
   "source": []
  }
 ],
 "metadata": {
  "kernelspec": {
   "display_name": "Python 3",
   "language": "python",
   "name": "python3"
  },
  "language_info": {
   "codemirror_mode": {
    "name": "ipython",
    "version": 3
   },
   "file_extension": ".py",
   "mimetype": "text/x-python",
   "name": "python",
   "nbconvert_exporter": "python",
   "pygments_lexer": "ipython3",
   "version": "3.8.2"
  }
 },
 "nbformat": 4,
 "nbformat_minor": 4
}
